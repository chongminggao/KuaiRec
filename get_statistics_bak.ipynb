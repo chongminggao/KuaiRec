{
 "cells": [
  {
   "cell_type": "markdown",
   "id": "977d952c-72dc-45aa-b6cf-9867bcf6c7cf",
   "metadata": {
    "pycharm": {
     "name": "#%% md\n"
    }
   },
   "source": [
    "# Statistics of KuaiRec"
   ]
  },
  {
   "cell_type": "markdown",
   "id": "d4c7a222-89d1-429a-9f7b-f6a2af0a816a",
   "metadata": {
    "pycharm": {
     "name": "#%% md\n"
    }
   },
   "source": [
    "## Load data"
   ]
  },
  {
   "cell_type": "code",
   "execution_count": null,
   "outputs": [],
   "source": [
    "import pandas as pd\n",
    "\n",
    "print(\"Loading big matrix...\")\n",
    "big_matrix = pd.read_csv(\"data/big_matrix.csv\")\n",
    "print(\"Loading small matrix...\")\n",
    "small_matrix = pd.read_csv(\"data/small_matrix.csv\")\n",
    "\n",
    "print(\"Loading social network...\")\n",
    "social_network = pd.read_csv(\"data/social_network.csv\")\n",
    "social_network[\"friend_list\"] = social_network[\"friend_list\"].map(eval)\n",
    "\n",
    "print(\"Loading item features...\")\n",
    "item_feat = pd.read_csv(\"data/item_categories.csv\")\n",
    "item_feat[\"feat\"] = item_feat[\"feat\"].map(eval)\n",
    "\n",
    "print(\"Loading user features...\")\n",
    "user_feat = pd.read_csv(\"data/user_features.csv\")\n",
    "\n",
    "print(\"Loading items' daily features...\")\n",
    "item_daily_feat = pd.read_csv(\"data/item_daily_feat.csv\")\n",
    "\n",
    "print(\"All data loaded.\")"
   ],
   "metadata": {
    "collapsed": false,
    "pycharm": {
     "name": "#%%\n"
    }
   }
  },
  {
   "cell_type": "markdown",
   "source": [
    "## Visualization of the four tables"
   ],
   "metadata": {
    "collapsed": false,
    "pycharm": {
     "name": "#%% md\n"
    }
   }
  },
  {
   "cell_type": "code",
   "execution_count": null,
   "outputs": [],
   "source": [
    "big_matrix"
   ],
   "metadata": {
    "collapsed": false,
    "pycharm": {
     "name": "#%%\n"
    }
   }
  },
  {
   "cell_type": "code",
   "execution_count": null,
   "outputs": [],
   "source": [
    "small_matrix"
   ],
   "metadata": {
    "collapsed": false,
    "pycharm": {
     "name": "#%%\n"
    }
   }
  },
  {
   "cell_type": "code",
   "execution_count": null,
   "outputs": [],
   "source": [
    "item_feat"
   ],
   "metadata": {
    "collapsed": false,
    "pycharm": {
     "name": "#%%\n"
    }
   }
  },
  {
   "cell_type": "code",
   "execution_count": null,
   "outputs": [],
   "source": [
    "social_network"
   ],
   "metadata": {
    "collapsed": false,
    "pycharm": {
     "name": "#%%\n"
    }
   }
  },
  {
   "cell_type": "code",
   "execution_count": null,
   "outputs": [],
   "source": [
    "item_daily_feat"
   ],
   "metadata": {
    "collapsed": false,
    "pycharm": {
     "name": "#%%\n"
    }
   }
  },
  {
   "cell_type": "code",
   "execution_count": null,
   "outputs": [],
   "source": [
    "user_feat"
   ],
   "metadata": {
    "collapsed": false,
    "pycharm": {
     "name": "#%%\n"
    }
   }
  },
  {
   "cell_type": "code",
   "execution_count": null,
   "outputs": [],
   "source": [
    "import seaborn as sns\n",
    "import matplotlib.pyplot as plt\n",
    "from matplotlib.font_manager import FontProperties\n",
    "myfont = FontProperties(fname=\"./SimHei.ttf\")\n",
    "\n",
    "def visual_continue(df, func=None):\n",
    "    ax = sns.distplot(df)\n",
    "    if func:\n",
    "        func(ax)\n",
    "    \n",
    "    gca = plt.gca()\n",
    "    fig_title = \"Statistcis of {}\".format(df.name)\n",
    "    gca.set_title(fig_title, fontsize=14)\n",
    "    gca.set_ylabel(\"Density\", fontsize=14)\n",
    "    gca.set_xlabel(df.name, fontsize=14)\n",
    "    \n",
    "    plt.show()\n",
    "\n",
    "def visual_statistics_discrete(df, var=\"my_variable\", display_ratio=True, func=None, order=None, size=(6, 4.5)):\n",
    "    ncount = len(df)\n",
    "\n",
    "    fig = plt.figure(figsize=size)\n",
    "    ax1 = fig.add_axes([0.14, 0.15, 0.74, 0.75])\n",
    "    sns.countplot(x=df, color=\"#9fc5e8\", linewidth=.6, edgecolor='k', ax=ax1, order=order)\n",
    "\n",
    "\n",
    "    plt.grid(axis='y', linestyle='-.')\n",
    "\n",
    "    gca = plt.gca()\n",
    "    fig_title = \"Statistcis of {}\".format(var)\n",
    "    gca.set_title(fig_title, fontsize=14)\n",
    "    gca.set_ylabel(\"Count\", fontsize=14)\n",
    "    gca.set_xlabel(var, fontsize=14)\n",
    "    \n",
    "    if func:\n",
    "        func(ax1)\n",
    "\n",
    "    if display_ratio:\n",
    "        # Make twin axis\n",
    "        ax2 = ax1.twinx()\n",
    "        ax2.set_ylabel(\"ratio (%)\", fontsize=14)\n",
    "\n",
    "\n",
    "        for p in ax1.patches:\n",
    "            x = p.get_bbox().get_points()[:, 0]\n",
    "            y = p.get_bbox().get_points()[1, 1]\n",
    "            ax1.annotate('{:.1f}%'.format(100. * y / ncount), (x.mean(), y),\n",
    "                         ha='center', va='bottom', fontsize=10, rotation=30)  # set the alignment of the text\n",
    "\n",
    "        ax2.set_ylim(0, ax1.get_ylim()[1] / ncount * 100)\n",
    "\n",
    "    plt.savefig(\"f{var}.png\")\n",
    "    plt.show()\n",
    "    "
   ],
   "metadata": {
    "collapsed": false,
    "pycharm": {
     "name": "#%%\n"
    }
   }
  },
  {
   "cell_type": "code",
   "execution_count": null,
   "outputs": [],
   "source": [
    "import warnings; warnings.simplefilter('ignore')"
   ],
   "metadata": {
    "collapsed": false,
    "pycharm": {
     "name": "#%%\n"
    }
   }
  },
  {
   "cell_type": "markdown",
   "source": [
    "## Statistics of social network"
   ],
   "metadata": {
    "collapsed": false,
    "pycharm": {
     "name": "#%% md\n"
    }
   }
  },
  {
   "cell_type": "code",
   "execution_count": null,
   "outputs": [],
   "source": [
    "print(social_network.friend_list.map(len).describe())\n",
    "visual_statistics_discrete(social_network.friend_list.map(len), \"number of friends\")"
   ],
   "metadata": {
    "collapsed": false,
    "pycharm": {
     "name": "#%%\n"
    }
   }
  },
  {
   "cell_type": "markdown",
   "source": [
    "## Statistics of video features"
   ],
   "metadata": {
    "collapsed": false,
    "pycharm": {
     "name": "#%% md\n"
    }
   }
  },
  {
   "cell_type": "code",
   "execution_count": null,
   "outputs": [],
   "source": [
    "num_feat = item_feat.feat.map(len)\n",
    "print(num_feat)\n",
    "visual_statistics_discrete(num_feat, \"number of tags\")"
   ],
   "metadata": {
    "collapsed": false,
    "pycharm": {
     "name": "#%%\n"
    }
   }
  },
  {
   "cell_type": "markdown",
   "source": [
    "## Count of 31 tags "
   ],
   "metadata": {
    "collapsed": false,
    "pycharm": {
     "name": "#%% md\n"
    }
   }
  },
  {
   "cell_type": "code",
   "execution_count": null,
   "outputs": [],
   "source": [
    "import collections\n",
    "import itertools\n",
    "\n",
    "cnt = item_feat.feat.map(collections.Counter)\n",
    "cnt_all = collections.Counter()\n",
    "for d in cnt:\n",
    "    cnt_all.update(d)\n",
    "# print(dict(cnt_all))\n",
    "all_feat = pd.Series(sorted(list(itertools.chain.from_iterable([[i]*k for i,k in cnt_all.items()]))),name=\"feat\")\n",
    "# print(all_feat)\n",
    "visual_statistics_discrete(all_feat, \"tag\", size=(12,4.5))"
   ],
   "metadata": {
    "collapsed": false,
    "pycharm": {
     "name": "#%%\n"
    }
   }
  },
  {
   "cell_type": "markdown",
   "source": [
    "## Watch_ratio in big matrix"
   ],
   "metadata": {
    "collapsed": false,
    "pycharm": {
     "name": "#%% md\n"
    }
   }
  },
  {
   "cell_type": "code",
   "execution_count": null,
   "outputs": [],
   "source": [
    "big_watch_ratio = big_matrix.watch_ratio[big_matrix.watch_ratio <= 5]\n",
    "print(big_watch_ratio.describe())\n",
    "visual_continue(big_watch_ratio)"
   ],
   "metadata": {
    "collapsed": false,
    "pycharm": {
     "name": "#%%\n"
    }
   }
  },
  {
   "cell_type": "markdown",
   "source": [
    "## Watch_ratio in small matrix"
   ],
   "metadata": {
    "collapsed": false,
    "pycharm": {
     "name": "#%% md\n"
    }
   }
  },
  {
   "cell_type": "code",
   "execution_count": null,
   "outputs": [],
   "source": [
    "small_watch_ratio = small_matrix.watch_ratio[small_matrix.watch_ratio <= 5]\n",
    "print(\"watch_ratio in small matrix\")\n",
    "print(small_watch_ratio.describe())\n",
    "visual_continue(small_watch_ratio)"
   ],
   "metadata": {
    "collapsed": false,
    "pycharm": {
     "name": "#%%\n"
    }
   }
  },
  {
   "cell_type": "markdown",
   "source": [
    "## Video duration of the big matrix (in millisecond)"
   ],
   "metadata": {
    "collapsed": false,
    "pycharm": {
     "name": "#%% md\n"
    }
   }
  },
  {
   "cell_type": "code",
   "execution_count": null,
   "outputs": [],
   "source": [
    "big_video_duration = big_matrix.video_duration\n",
    "print(big_video_duration.describe())\n",
    "# visual_continue(big_video_duration)\n",
    "visual_continue(big_video_duration[big_video_duration < 100000])"
   ],
   "metadata": {
    "collapsed": false,
    "pycharm": {
     "name": "#%%\n"
    }
   }
  },
  {
   "cell_type": "markdown",
   "source": [
    "## Video duration of the small matrix (in millisecond)"
   ],
   "metadata": {
    "collapsed": false,
    "pycharm": {
     "name": "#%% md\n"
    }
   }
  },
  {
   "cell_type": "code",
   "execution_count": null,
   "outputs": [],
   "source": [
    "small_video_duration = small_matrix.video_duration\n",
    "print(small_video_duration.describe())\n",
    "# visual_continue(small_video_duration)\n",
    "visual_continue(small_video_duration[small_video_duration < 100000])"
   ],
   "metadata": {
    "collapsed": false,
    "pycharm": {
     "name": "#%%\n"
    }
   }
  },
  {
   "cell_type": "markdown",
   "source": [
    "## 大矩阵中每个用户的总播放次数"
   ],
   "metadata": {
    "collapsed": false,
    "pycharm": {
     "name": "#%% md\n"
    }
   }
  },
  {
   "cell_type": "code",
   "execution_count": null,
   "outputs": [],
   "source": [
    "big_play_time = big_matrix.groupby('user_id').agg({\"date\":len})\n",
    "big_play_time.name = \"play times\"\n",
    "print(big_play_time.describe())\n",
    "visual_continue(big_play_time)"
   ],
   "metadata": {
    "collapsed": false,
    "pycharm": {
     "name": "#%%\n"
    }
   }
  },
  {
   "cell_type": "markdown",
   "source": [
    "## 小矩阵中每个用户的总播放次数"
   ],
   "metadata": {
    "collapsed": false,
    "pycharm": {
     "name": "#%% md\n"
    }
   }
  },
  {
   "cell_type": "code",
   "execution_count": null,
   "outputs": [],
   "source": [
    "small_play_time = small_matrix.groupby('user_id').agg({\"date\":len})\n",
    "small_play_time.name = \"play times\"\n",
    "print(small_play_time.describe())\n",
    "visual_continue(small_play_time)"
   ],
   "metadata": {
    "collapsed": false,
    "pycharm": {
     "name": "#%%\n"
    }
   }
  },
  {
   "cell_type": "markdown",
   "source": [
    "## 大矩阵中每个用户的日播放次数"
   ],
   "metadata": {
    "collapsed": false,
    "pycharm": {
     "name": "#%% md\n"
    }
   }
  },
  {
   "cell_type": "code",
   "execution_count": null,
   "outputs": [],
   "source": [
    "big_daily_play_time = big_matrix.groupby(['user_id', 'date']).size()\n",
    "big_daily_play_time.name = \"play times\"\n",
    "print(big_daily_play_time.describe())\n",
    "visual_continue(big_daily_play_time)"
   ],
   "metadata": {
    "collapsed": false,
    "pycharm": {
     "name": "#%%\n"
    }
   }
  },
  {
   "cell_type": "markdown",
   "source": [
    "## 小矩阵中每个用户的日播放次数"
   ],
   "metadata": {
    "collapsed": false,
    "pycharm": {
     "name": "#%% md\n"
    }
   }
  },
  {
   "cell_type": "code",
   "execution_count": null,
   "outputs": [],
   "source": [
    "small_daily_play_time = small_matrix.groupby(['user_id', 'date']).size()\n",
    "small_daily_play_time.name = \"play times\"\n",
    "print(small_daily_play_time.describe())\n",
    "visual_continue(small_daily_play_time)"
   ],
   "metadata": {
    "collapsed": false,
    "pycharm": {
     "name": "#%%\n"
    }
   }
  },
  {
   "cell_type": "markdown",
   "source": [
    "## 大矩阵中播放日期分布"
   ],
   "metadata": {
    "collapsed": false,
    "pycharm": {
     "name": "#%% md\n"
    }
   }
  },
  {
   "cell_type": "code",
   "execution_count": null,
   "outputs": [],
   "source": [
    "import functools\n",
    "def adjust_xticks(ax):\n",
    "    # print(ax.get_xticklabels())\n",
    "    ax.set_xticks(list(range(0,len(ax.get_xticklabels()),3)))\n",
    "    # print(ax.get_xticklabels())\n",
    "    # ax.set_xticklabels(rotation = 45)\n",
    "    for tick in ax.get_xticklabels():\n",
    "        tick.set_rotation(45)\n",
    "    # plt.xticks(fontsize=8)\n",
    "    # ax.set_xticklabels([\"{}\".format(str(i)) for i in ax.get_xticks()])"
   ],
   "metadata": {
    "collapsed": false,
    "pycharm": {
     "name": "#%%\n"
    }
   }
  },
  {
   "cell_type": "code",
   "execution_count": null,
   "outputs": [],
   "source": [
    "visual_statistics_discrete(big_matrix.date, \"date\", display_ratio=False, func=adjust_xticks, order=small_matrix.date[~small_matrix.date.isna()].map(int).unique())"
   ],
   "metadata": {
    "collapsed": false,
    "pycharm": {
     "name": "#%%\n"
    }
   }
  },
  {
   "cell_type": "markdown",
   "source": [
    "## 小矩阵中播放日期分布"
   ],
   "metadata": {
    "collapsed": false,
    "pycharm": {
     "name": "#%% md\n"
    }
   }
  },
  {
   "cell_type": "code",
   "execution_count": null,
   "outputs": [],
   "source": [
    "visual_statistics_discrete(small_matrix.date[~small_matrix.date.isna()].map(int), \"date\", display_ratio=False, func=adjust_xticks)"
   ],
   "metadata": {
    "collapsed": false,
    "pycharm": {
     "name": "#%%\n"
    }
   }
  },
  {
   "cell_type": "code",
   "execution_count": null,
   "outputs": [],
   "source": [],
   "metadata": {
    "collapsed": false,
    "pycharm": {
     "name": "#%%\n"
    }
   }
  },
  {
   "cell_type": "code",
   "execution_count": null,
   "id": "54567a88-88ae-4060-bd67-78f39601e59c",
   "metadata": {
    "pycharm": {
     "name": "#%%\n"
    }
   },
   "outputs": [],
   "source": []
  }
 ],
 "metadata": {
  "kernelspec": {
   "display_name": "Python 3 (ipykernel)",
   "language": "python",
   "name": "python3"
  },
  "language_info": {
   "codemirror_mode": {
    "name": "ipython",
    "version": 3
   },
   "file_extension": ".py",
   "mimetype": "text/x-python",
   "name": "python",
   "nbconvert_exporter": "python",
   "pygments_lexer": "ipython3",
   "version": "3.9.1"
  }
 },
 "nbformat": 4,
 "nbformat_minor": 5
}